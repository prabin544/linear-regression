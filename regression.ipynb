{
 "cells": [
  {
   "cell_type": "code",
   "execution_count": 26,
   "source": [
    "import pandas as pd\n",
    "import matplotlib.pyplot as plt\n",
    "from sklearn.linear_model import LinearRegression\n",
    "from sklearn.model_selection import train_test_split"
   ],
   "outputs": [],
   "metadata": {}
  },
  {
   "cell_type": "code",
   "execution_count": 40,
   "source": [
    "df = pd.read_csv('Life_expectancy.csv')\n",
    "df.head(10)"
   ],
   "outputs": [
    {
     "output_type": "execute_result",
     "data": {
      "text/plain": [
       "      Entity  Year  expectancy\n",
       "0  Australia  1802   34.049999\n",
       "1  Australia  1803   34.049999\n",
       "2  Australia  1804   34.049999\n",
       "3  Australia  1805   34.049999\n",
       "4  Australia  1806   34.049999\n",
       "5  Australia  1807   34.049999\n",
       "6  Australia  1808   34.049999\n",
       "7  Australia  1809   34.049999\n",
       "8  Australia  1810   34.049999\n",
       "9  Australia  1811   34.049999"
      ],
      "text/html": [
       "<div>\n",
       "<style scoped>\n",
       "    .dataframe tbody tr th:only-of-type {\n",
       "        vertical-align: middle;\n",
       "    }\n",
       "\n",
       "    .dataframe tbody tr th {\n",
       "        vertical-align: top;\n",
       "    }\n",
       "\n",
       "    .dataframe thead th {\n",
       "        text-align: right;\n",
       "    }\n",
       "</style>\n",
       "<table border=\"1\" class=\"dataframe\">\n",
       "  <thead>\n",
       "    <tr style=\"text-align: right;\">\n",
       "      <th></th>\n",
       "      <th>Entity</th>\n",
       "      <th>Year</th>\n",
       "      <th>expectancy</th>\n",
       "    </tr>\n",
       "  </thead>\n",
       "  <tbody>\n",
       "    <tr>\n",
       "      <th>0</th>\n",
       "      <td>Australia</td>\n",
       "      <td>1802</td>\n",
       "      <td>34.049999</td>\n",
       "    </tr>\n",
       "    <tr>\n",
       "      <th>1</th>\n",
       "      <td>Australia</td>\n",
       "      <td>1803</td>\n",
       "      <td>34.049999</td>\n",
       "    </tr>\n",
       "    <tr>\n",
       "      <th>2</th>\n",
       "      <td>Australia</td>\n",
       "      <td>1804</td>\n",
       "      <td>34.049999</td>\n",
       "    </tr>\n",
       "    <tr>\n",
       "      <th>3</th>\n",
       "      <td>Australia</td>\n",
       "      <td>1805</td>\n",
       "      <td>34.049999</td>\n",
       "    </tr>\n",
       "    <tr>\n",
       "      <th>4</th>\n",
       "      <td>Australia</td>\n",
       "      <td>1806</td>\n",
       "      <td>34.049999</td>\n",
       "    </tr>\n",
       "    <tr>\n",
       "      <th>5</th>\n",
       "      <td>Australia</td>\n",
       "      <td>1807</td>\n",
       "      <td>34.049999</td>\n",
       "    </tr>\n",
       "    <tr>\n",
       "      <th>6</th>\n",
       "      <td>Australia</td>\n",
       "      <td>1808</td>\n",
       "      <td>34.049999</td>\n",
       "    </tr>\n",
       "    <tr>\n",
       "      <th>7</th>\n",
       "      <td>Australia</td>\n",
       "      <td>1809</td>\n",
       "      <td>34.049999</td>\n",
       "    </tr>\n",
       "    <tr>\n",
       "      <th>8</th>\n",
       "      <td>Australia</td>\n",
       "      <td>1810</td>\n",
       "      <td>34.049999</td>\n",
       "    </tr>\n",
       "    <tr>\n",
       "      <th>9</th>\n",
       "      <td>Australia</td>\n",
       "      <td>1811</td>\n",
       "      <td>34.049999</td>\n",
       "    </tr>\n",
       "  </tbody>\n",
       "</table>\n",
       "</div>"
      ]
     },
     "metadata": {},
     "execution_count": 40
    }
   ],
   "metadata": {}
  },
  {
   "cell_type": "code",
   "execution_count": 43,
   "source": [
    "United_States = df[df[\"Entity\"] == \"United States\"]\n",
    "print(United_States)"
   ],
   "outputs": [
    {
     "output_type": "stream",
     "name": "stdout",
     "text": [
      "             Entity  Year  expectancy\n",
      "3036  United States  1800   39.410000\n",
      "3037  United States  1801   39.410000\n",
      "3038  United States  1802   39.410000\n",
      "3039  United States  1803   39.410000\n",
      "3040  United States  1804   39.410000\n",
      "...             ...   ...         ...\n",
      "3248  United States  2012   78.940002\n",
      "3249  United States  2013   78.959999\n",
      "3250  United States  2014   78.940002\n",
      "3251  United States  2015   78.870003\n",
      "3252  United States  2016   78.860001\n",
      "\n",
      "[217 rows x 3 columns]\n"
     ]
    }
   ],
   "metadata": {}
  },
  {
   "cell_type": "code",
   "execution_count": 45,
   "source": [
    "X = United_States[\"Year\"].values\n",
    "y = United_States[\"expectancy\"].values"
   ],
   "outputs": [],
   "metadata": {}
  },
  {
   "cell_type": "code",
   "execution_count": 47,
   "source": [
    "len(X)"
   ],
   "outputs": [
    {
     "output_type": "execute_result",
     "data": {
      "text/plain": [
       "217"
      ]
     },
     "metadata": {},
     "execution_count": 47
    }
   ],
   "metadata": {}
  },
  {
   "cell_type": "code",
   "execution_count": 49,
   "source": [
    "len(y)"
   ],
   "outputs": [
    {
     "output_type": "execute_result",
     "data": {
      "text/plain": [
       "217"
      ]
     },
     "metadata": {},
     "execution_count": 49
    }
   ],
   "metadata": {}
  },
  {
   "cell_type": "code",
   "execution_count": 51,
   "source": [
    "X = X.reshape(-1, 1)\n",
    "print(X)"
   ],
   "outputs": [
    {
     "output_type": "stream",
     "name": "stdout",
     "text": [
      "[[1800]\n",
      " [1801]\n",
      " [1802]\n",
      " [1803]\n",
      " [1804]\n",
      " [1805]\n",
      " [1806]\n",
      " [1807]\n",
      " [1808]\n",
      " [1809]\n",
      " [1810]\n",
      " [1811]\n",
      " [1812]\n",
      " [1813]\n",
      " [1814]\n",
      " [1815]\n",
      " [1816]\n",
      " [1817]\n",
      " [1818]\n",
      " [1819]\n",
      " [1820]\n",
      " [1821]\n",
      " [1822]\n",
      " [1823]\n",
      " [1824]\n",
      " [1825]\n",
      " [1826]\n",
      " [1827]\n",
      " [1828]\n",
      " [1829]\n",
      " [1830]\n",
      " [1831]\n",
      " [1832]\n",
      " [1833]\n",
      " [1834]\n",
      " [1835]\n",
      " [1836]\n",
      " [1837]\n",
      " [1838]\n",
      " [1839]\n",
      " [1840]\n",
      " [1841]\n",
      " [1842]\n",
      " [1843]\n",
      " [1844]\n",
      " [1845]\n",
      " [1846]\n",
      " [1847]\n",
      " [1848]\n",
      " [1849]\n",
      " [1850]\n",
      " [1851]\n",
      " [1852]\n",
      " [1853]\n",
      " [1854]\n",
      " [1855]\n",
      " [1856]\n",
      " [1857]\n",
      " [1858]\n",
      " [1859]\n",
      " [1860]\n",
      " [1861]\n",
      " [1862]\n",
      " [1863]\n",
      " [1864]\n",
      " [1865]\n",
      " [1866]\n",
      " [1867]\n",
      " [1868]\n",
      " [1869]\n",
      " [1870]\n",
      " [1871]\n",
      " [1872]\n",
      " [1873]\n",
      " [1874]\n",
      " [1875]\n",
      " [1876]\n",
      " [1877]\n",
      " [1878]\n",
      " [1879]\n",
      " [1880]\n",
      " [1881]\n",
      " [1882]\n",
      " [1883]\n",
      " [1884]\n",
      " [1885]\n",
      " [1886]\n",
      " [1887]\n",
      " [1888]\n",
      " [1889]\n",
      " [1890]\n",
      " [1891]\n",
      " [1892]\n",
      " [1893]\n",
      " [1894]\n",
      " [1895]\n",
      " [1896]\n",
      " [1897]\n",
      " [1898]\n",
      " [1899]\n",
      " [1900]\n",
      " [1901]\n",
      " [1902]\n",
      " [1903]\n",
      " [1904]\n",
      " [1905]\n",
      " [1906]\n",
      " [1907]\n",
      " [1908]\n",
      " [1909]\n",
      " [1910]\n",
      " [1911]\n",
      " [1912]\n",
      " [1913]\n",
      " [1914]\n",
      " [1915]\n",
      " [1916]\n",
      " [1917]\n",
      " [1918]\n",
      " [1919]\n",
      " [1920]\n",
      " [1921]\n",
      " [1922]\n",
      " [1923]\n",
      " [1924]\n",
      " [1925]\n",
      " [1926]\n",
      " [1927]\n",
      " [1928]\n",
      " [1929]\n",
      " [1930]\n",
      " [1931]\n",
      " [1932]\n",
      " [1933]\n",
      " [1934]\n",
      " [1935]\n",
      " [1936]\n",
      " [1937]\n",
      " [1938]\n",
      " [1939]\n",
      " [1940]\n",
      " [1941]\n",
      " [1942]\n",
      " [1943]\n",
      " [1944]\n",
      " [1945]\n",
      " [1946]\n",
      " [1947]\n",
      " [1948]\n",
      " [1949]\n",
      " [1950]\n",
      " [1951]\n",
      " [1952]\n",
      " [1953]\n",
      " [1954]\n",
      " [1955]\n",
      " [1956]\n",
      " [1957]\n",
      " [1958]\n",
      " [1959]\n",
      " [1960]\n",
      " [1961]\n",
      " [1962]\n",
      " [1963]\n",
      " [1964]\n",
      " [1965]\n",
      " [1966]\n",
      " [1967]\n",
      " [1968]\n",
      " [1969]\n",
      " [1970]\n",
      " [1971]\n",
      " [1972]\n",
      " [1973]\n",
      " [1974]\n",
      " [1975]\n",
      " [1976]\n",
      " [1977]\n",
      " [1978]\n",
      " [1979]\n",
      " [1980]\n",
      " [1981]\n",
      " [1982]\n",
      " [1983]\n",
      " [1984]\n",
      " [1985]\n",
      " [1986]\n",
      " [1987]\n",
      " [1988]\n",
      " [1989]\n",
      " [1990]\n",
      " [1991]\n",
      " [1992]\n",
      " [1993]\n",
      " [1994]\n",
      " [1995]\n",
      " [1996]\n",
      " [1997]\n",
      " [1998]\n",
      " [1999]\n",
      " [2000]\n",
      " [2001]\n",
      " [2002]\n",
      " [2003]\n",
      " [2004]\n",
      " [2005]\n",
      " [2006]\n",
      " [2007]\n",
      " [2008]\n",
      " [2009]\n",
      " [2010]\n",
      " [2011]\n",
      " [2012]\n",
      " [2013]\n",
      " [2014]\n",
      " [2015]\n",
      " [2016]]\n"
     ]
    }
   ],
   "metadata": {}
  },
  {
   "cell_type": "code",
   "execution_count": 57,
   "source": [
    "x_train, x_test, y_train, y_test = train_test_split(X, y, train_size=.8, test_size=.2, random_state=100)"
   ],
   "outputs": [],
   "metadata": {}
  },
  {
   "cell_type": "code",
   "execution_count": 59,
   "source": [
    "print(f'X-Train Shape [{x_train.shape}]')"
   ],
   "outputs": [
    {
     "output_type": "stream",
     "name": "stdout",
     "text": [
      "X-Train Shape [(173, 1)]\n"
     ]
    }
   ],
   "metadata": {}
  },
  {
   "cell_type": "code",
   "execution_count": 61,
   "source": [
    "print(f'Y-Train Shape [{y_train.shape}]')"
   ],
   "outputs": [
    {
     "output_type": "stream",
     "name": "stdout",
     "text": [
      "Y-Train Shape [(173,)]\n"
     ]
    }
   ],
   "metadata": {}
  },
  {
   "cell_type": "code",
   "execution_count": 63,
   "source": [
    "print(f'X-Test Shape [{x_test.shape}]')"
   ],
   "outputs": [
    {
     "output_type": "stream",
     "name": "stdout",
     "text": [
      "X-Test Shape [(44, 1)]\n"
     ]
    }
   ],
   "metadata": {}
  },
  {
   "cell_type": "code",
   "execution_count": 65,
   "source": [
    "print(f'Y-Test Shape [{y_train.shape}]')"
   ],
   "outputs": [
    {
     "output_type": "stream",
     "name": "stdout",
     "text": [
      "Y-Test Shape [(173,)]\n"
     ]
    }
   ],
   "metadata": {}
  },
  {
   "cell_type": "code",
   "execution_count": 68,
   "source": [
    "\n",
    "plt.scatter(x_train, y_train, color='red')\n",
    "plt.xlabel('Year')\n",
    "plt.ylabel('Life Expectancy')\n",
    "plt.title('US Life Expectancy by Year')"
   ],
   "outputs": [
    {
     "output_type": "execute_result",
     "data": {
      "text/plain": [
       "Text(0.5, 1.0, 'US Life Expectancy by Year')"
      ]
     },
     "metadata": {},
     "execution_count": 68
    },
    {
     "output_type": "display_data",
     "data": {
      "text/plain": [
       "<Figure size 432x288 with 1 Axes>"
      ],
      "image/png": "[encoded data removed]"
     },
     "metadata": {
      "needs_background": "light"
     }
    }
   ],
   "metadata": {}
  },
  {
   "cell_type": "code",
   "execution_count": 70,
   "source": [
    "lm = LinearRegression()\n",
    "lm.fit(x_train, y_train)\n",
    "y_predict = lm.predict(x_test)"
   ],
   "outputs": [],
   "metadata": {}
  },
  {
   "cell_type": "code",
   "execution_count": 72,
   "source": [
    "print(f'Training Accuracy {round(lm.score(x_train, y_train) * 100,2)}%')\n",
    "print(f'Test Accuracy {round(lm.score(x_test, y_test) * 100,2)}%')"
   ],
   "outputs": [
    {
     "output_type": "stream",
     "name": "stdout",
     "text": [
      "Training Accuracy 91.19%\n",
      "Test Accuracy 93.34%\n"
     ]
    }
   ],
   "metadata": {}
  },
  {
   "cell_type": "code",
   "execution_count": 74,
   "source": [
    "plt.scatter(x_train, y_train, color='red')\n",
    "plt.plot(x_test, y_predict)\n",
    "plt.xlabel('Year')\n",
    "plt.ylabel('Life Expectancy')\n",
    "plt.title('US Life Expectancy by Year')\n",
    "plt.plot"
   ],
   "outputs": [
    {
     "output_type": "execute_result",
     "data": {
      "text/plain": [
       "<function matplotlib.pyplot.plot(*args, scalex=True, scaley=True, data=None, **kwargs)>"
      ]
     },
     "metadata": {},
     "execution_count": 74
    },
    {
     "output_type": "display_data",
     "data": {
      "text/plain": [
       "<Figure size 432x288 with 1 Axes>"
      ],
      "image/png": "[encoded data removed]"
     },
     "metadata": {
      "needs_background": "light"
     }
    }
   ],
   "metadata": {}
  },
  {
   "cell_type": "code",
   "execution_count": 77,
   "source": [
    "import seaborn as sns"
   ],
   "outputs": [],
   "metadata": {}
  },
  {
   "cell_type": "code",
   "execution_count": 78,
   "source": [
    "# lm = LinearRegression()\n",
    "# lm.fit(x_train, y_train)\n",
    "# y_predict = lm.predict(x_test)"
   ],
   "outputs": [],
   "metadata": {}
  }
 ],
 "metadata": {
  "orig_nbformat": 4,
  "language_info": {
   "name": "python"
  }
 },
 "nbformat": 4,
 "nbformat_minor": 2
}